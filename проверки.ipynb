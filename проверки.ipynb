{
 "cells": [
  {
   "cell_type": "code",
   "execution_count": 1,
   "metadata": {},
   "outputs": [],
   "source": [
    "#Ваш код\n",
    "%matplotlib inline\n",
    "\n",
    "# графики в svg выглядят более четкими\n",
    "%config InlineBackend.figure_format = 'svg'\n",
    "import pandas as pd\n",
    "import numpy as np\n",
    "\n",
    "import seaborn as sns\n",
    "# import plotly.express as px\n",
    "# import plotly.graph_objects as go\n",
    "import matplotlib.pyplot as plt\n",
    "\n",
    "# from tqdm import tqdm\n",
    "\n",
    "import warnings\n",
    "warnings.filterwarnings('ignore')\n",
    "\n",
    "# увеличим дефолтный размер графиков\n",
    "from pylab import rcParams\n",
    "\n",
    "import statistics\n",
    "\n",
    "rcParams[\"figure.figsize\"] = 10, 6\n",
    "sns.set_style(\"whitegrid\", {'axes.grid' : True})"
   ]
  },
  {
   "cell_type": "code",
   "execution_count": null,
   "metadata": {},
   "outputs": [],
   "source": [
    "#Ваш код\n",
    "datas= pd.read_csv('dataset.csv', sep = ';')\n",
    "print(datas.head(10))\n",
    "print('\\n')\n",
    "print('Инфо : ') \n",
    "print(datas.info())"
   ]
  },
  {
   "cell_type": "code",
   "execution_count": 5,
   "metadata": {},
   "outputs": [
    {
     "name": "stdout",
     "output_type": "stream",
     "text": [
      "Пропуски : \n",
      "Дата          0\n",
      "Транзакция    0\n",
      "Клиент        0\n",
      "Товар         0\n",
      "Количество    0\n",
      "Сумма         0\n",
      "dtype: int64\n",
      "Обработка пропусков..\n",
      "Проверка : \n",
      "Дата          0\n",
      "Транзакция    0\n",
      "Клиент        0\n",
      "Товар         0\n",
      "Количество    0\n",
      "Сумма         0\n",
      "dtype: int64\n",
      "Дубликаты : \n",
      "1127\n",
      "Удаляем... \n",
      "Проверка : \n",
      "0\n",
      " Уникальность в признаке :  Дата\n",
      "['03.05.2020 21:43' '20.11.2020 20:46' '08.12.2020 16:28' ...\n",
      " '06.07.2021 15:00' '06.07.2021 15:13' '06.07.2021 15:02']\n",
      " Уникальность в признаке :  Транзакция\n",
      "[  954 13796 14431 ... 25398 25399 25412]\n",
      " Уникальность в признаке :  Клиент\n",
      "[    1     2     3 ... 11048 11049 11050]\n",
      " Уникальность в признаке :  Товар\n",
      "[2874. 3586. 4942. ... 3516. 4151. 2334.]\n",
      " Уникальность в признаке :  Количество\n",
      "[1.]\n",
      " Уникальность в признаке :  Сумма\n",
      "[ 8150.    3930.    2860.   ... 17989.98 19989.98 14605.  ]\n",
      "\n",
      "\n",
      "Размерность :  (47146, 6)\n",
      "Инфо : \n",
      "<class 'pandas.core.frame.DataFrame'>\n",
      "Int64Index: 47146 entries, 0 to 48302\n",
      "Data columns (total 6 columns):\n",
      " #   Column      Non-Null Count  Dtype  \n",
      "---  ------      --------------  -----  \n",
      " 0   Дата        47146 non-null  object \n",
      " 1   Транзакция  47146 non-null  int64  \n",
      " 2   Клиент      47146 non-null  int64  \n",
      " 3   Товар       47146 non-null  float64\n",
      " 4   Количество  47146 non-null  float64\n",
      " 5   Сумма       47146 non-null  float64\n",
      "dtypes: float64(3), int64(2), object(1)\n",
      "memory usage: 2.5+ MB\n",
      "None\n",
      "Преобразование полей данных в нужные форматы..\n",
      "Инфо : \n",
      "<class 'pandas.core.frame.DataFrame'>\n",
      "Int64Index: 47146 entries, 0 to 48302\n",
      "Data columns (total 6 columns):\n",
      " #   Column      Non-Null Count  Dtype         \n",
      "---  ------      --------------  -----         \n",
      " 0   Дата        47146 non-null  datetime64[ns]\n",
      " 1   Транзакция  47146 non-null  string        \n",
      " 2   Клиент      47146 non-null  string        \n",
      " 3   Товар       47146 non-null  string        \n",
      " 4   Количество  47146 non-null  int64         \n",
      " 5   Сумма       47146 non-null  float64       \n",
      "dtypes: datetime64[ns](1), float64(1), int64(1), string(3)\n",
      "memory usage: 2.5 MB\n",
      "None\n"
     ]
    }
   ],
   "source": [
    "#Ваш код\n",
    "print('Пропуски : ') \n",
    "print(datas.isnull().sum())\n",
    "print('Обработка пропусков..')\n",
    "datas = datas.dropna(axis=0)\n",
    "print('Проверка : ')\n",
    "print(datas.isnull().sum())\n",
    "print('Дубликаты : ')\n",
    "print(datas.duplicated().sum())\n",
    "print('Удаляем... ')\n",
    "datas = datas.drop_duplicates()\n",
    "print('Проверка : ')\n",
    "print(datas.duplicated().sum())\n",
    "for i in datas:\n",
    "    print(' Уникальность в признаке : ',i)\n",
    "    print(datas[i].unique())\n",
    "\n",
    "# datas['Количество'].unique()\n",
    "print('\\n')\n",
    "print('Размерность : ',datas.shape)\n",
    "print('Инфо : ')\n",
    "print(datas.info())\n",
    "print('Преобразование полей данных в нужные форматы..')\n",
    "datas = datas.astype({'Товар': 'int64', \n",
    "                       'Количество' : 'int64',\n",
    "                       'Дата': 'datetime64[ns]',\n",
    "                       'Клиент': 'string',\n",
    "                       'Товар': 'string',\n",
    "                       'Транзакция': 'string'})\n",
    "print('Инфо : ')\n",
    "print(datas.info())"
   ]
  },
  {
   "cell_type": "code",
   "execution_count": null,
   "metadata": {},
   "outputs": [],
   "source": [
    "df_hits = datas[['Дата','Сумма','Количество','Товар','Транзакция','Клиент']].groupby(['Дата']).sum()\n",
    "df_hits.resample('M').plot()"
   ]
  },
  {
   "cell_type": "code",
   "execution_count": null,
   "metadata": {},
   "outputs": [],
   "source": [
    "data_sum = datas.groupby(['Товар','Дата'])['Количество','Сумма'].sum()\n",
    "data_sum"
   ]
  },
  {
   "cell_type": "markdown",
   "metadata": {},
   "source": [
    "Создадим серии по сумме и по количеству товаров."
   ]
  },
  {
   "cell_type": "code",
   "execution_count": null,
   "metadata": {},
   "outputs": [],
   "source": [
    "dt = datas[['Дата','Сумма']].groupby(['Дата']).sum().sort_values('Дата')\n",
    "print('Описательная характеристика серии по сумме: ') \n",
    "print('\\n')\n",
    "print(dt.describe())\n",
    "print('\\n')\n",
    "print(dt.info())"
   ]
  },
  {
   "cell_type": "code",
   "execution_count": null,
   "metadata": {},
   "outputs": [],
   "source": [
    "dtcount = datas[['Дата','Товар']].groupby(['Дата']).count().sort_values('Дата')\n",
    "print('Описательная характеристика серии по количеству: ') \n",
    "print('\\n')\n",
    "print(dtcount.describe())\n",
    "print('\\n')\n",
    "print(dtcount.info())"
   ]
  },
  {
   "cell_type": "markdown",
   "metadata": {},
   "source": [
    "Касаемое лучших, худших клиентов\n"
   ]
  },
  {
   "cell_type": "code",
   "execution_count": 14,
   "metadata": {},
   "outputs": [
    {
     "data": {
      "text/html": [
       "<div>\n",
       "<style scoped>\n",
       "    .dataframe tbody tr th:only-of-type {\n",
       "        vertical-align: middle;\n",
       "    }\n",
       "\n",
       "    .dataframe tbody tr th {\n",
       "        vertical-align: top;\n",
       "    }\n",
       "\n",
       "    .dataframe thead th {\n",
       "        text-align: right;\n",
       "    }\n",
       "</style>\n",
       "<table border=\"1\" class=\"dataframe\">\n",
       "  <thead>\n",
       "    <tr style=\"text-align: right;\">\n",
       "      <th></th>\n",
       "      <th>Клиент</th>\n",
       "      <th>Дата</th>\n",
       "      <th>Количество</th>\n",
       "      <th>Сумма</th>\n",
       "    </tr>\n",
       "  </thead>\n",
       "  <tbody>\n",
       "    <tr>\n",
       "      <th>0</th>\n",
       "      <td>1</td>\n",
       "      <td>2020-03-05 21:43:00</td>\n",
       "      <td>1</td>\n",
       "      <td>8150.0</td>\n",
       "    </tr>\n",
       "    <tr>\n",
       "      <th>1</th>\n",
       "      <td>1</td>\n",
       "      <td>2020-08-12 16:28:00</td>\n",
       "      <td>1</td>\n",
       "      <td>2860.0</td>\n",
       "    </tr>\n",
       "    <tr>\n",
       "      <th>2</th>\n",
       "      <td>1</td>\n",
       "      <td>2020-11-20 20:46:00</td>\n",
       "      <td>1</td>\n",
       "      <td>3930.0</td>\n",
       "    </tr>\n",
       "    <tr>\n",
       "      <th>3</th>\n",
       "      <td>10</td>\n",
       "      <td>2020-01-05 18:24:00</td>\n",
       "      <td>5</td>\n",
       "      <td>17610.0</td>\n",
       "    </tr>\n",
       "    <tr>\n",
       "      <th>4</th>\n",
       "      <td>10</td>\n",
       "      <td>2020-06-15 18:37:00</td>\n",
       "      <td>1</td>\n",
       "      <td>5080.0</td>\n",
       "    </tr>\n",
       "    <tr>\n",
       "      <th>5</th>\n",
       "      <td>10</td>\n",
       "      <td>2020-07-06 17:51:00</td>\n",
       "      <td>1</td>\n",
       "      <td>5080.0</td>\n",
       "    </tr>\n",
       "    <tr>\n",
       "      <th>6</th>\n",
       "      <td>100</td>\n",
       "      <td>2020-01-05 16:01:00</td>\n",
       "      <td>5</td>\n",
       "      <td>21200.0</td>\n",
       "    </tr>\n",
       "    <tr>\n",
       "      <th>7</th>\n",
       "      <td>100</td>\n",
       "      <td>2020-05-09 20:52:00</td>\n",
       "      <td>1</td>\n",
       "      <td>4950.0</td>\n",
       "    </tr>\n",
       "    <tr>\n",
       "      <th>8</th>\n",
       "      <td>1000</td>\n",
       "      <td>2020-05-18 18:22:00</td>\n",
       "      <td>1</td>\n",
       "      <td>4645.0</td>\n",
       "    </tr>\n",
       "    <tr>\n",
       "      <th>9</th>\n",
       "      <td>10000</td>\n",
       "      <td>2021-05-22 16:08:00</td>\n",
       "      <td>1</td>\n",
       "      <td>20450.0</td>\n",
       "    </tr>\n",
       "  </tbody>\n",
       "</table>\n",
       "</div>"
      ],
      "text/plain": [
       "  Клиент                Дата  Количество    Сумма\n",
       "0      1 2020-03-05 21:43:00           1   8150.0\n",
       "1      1 2020-08-12 16:28:00           1   2860.0\n",
       "2      1 2020-11-20 20:46:00           1   3930.0\n",
       "3     10 2020-01-05 18:24:00           5  17610.0\n",
       "4     10 2020-06-15 18:37:00           1   5080.0\n",
       "5     10 2020-07-06 17:51:00           1   5080.0\n",
       "6    100 2020-01-05 16:01:00           5  21200.0\n",
       "7    100 2020-05-09 20:52:00           1   4950.0\n",
       "8   1000 2020-05-18 18:22:00           1   4645.0\n",
       "9  10000 2021-05-22 16:08:00           1  20450.0"
      ]
     },
     "execution_count": 14,
     "metadata": {},
     "output_type": "execute_result"
    }
   ],
   "source": [
    "dtclient = datas[['Дата','Клиент','Сумма','Количество']].groupby(['Клиент','Дата'])['Количество','Сумма'].sum().sort_values('Клиент').reset_index()\n",
    "dtclient.head(10)"
   ]
  },
  {
   "cell_type": "code",
   "execution_count": 13,
   "metadata": {},
   "outputs": [
    {
     "name": "stdout",
     "output_type": "stream",
     "text": [
      "<class 'pandas.core.series.Series'>\n",
      "Index: 10989 entries, 3738 to 1438\n",
      "Series name: Клиент\n",
      "Non-Null Count  Dtype\n",
      "--------------  -----\n",
      "10989 non-null  Int64\n",
      "dtypes: Int64(1)\n",
      "memory usage: 182.4 KB\n"
     ]
    }
   ],
   "source": [
    "s = dtclient['Клиент'].value_counts()\n",
    "s.info()"
   ]
  },
  {
   "cell_type": "code",
   "execution_count": null,
   "metadata": {},
   "outputs": [],
   "source": [
    "col_tr = datas['Транзакция'].value_counts()\n",
    "col_tr"
   ]
  },
  {
   "cell_type": "markdown",
   "metadata": {},
   "source": [
    "график зависимости от даты"
   ]
  },
  {
   "cell_type": "code",
   "execution_count": null,
   "metadata": {},
   "outputs": [],
   "source": [
    "plt.figure(figsize = (25,6))\n",
    "plt.subplot(1,2,1)\n",
    "plt1 = dtcount.Товар.plot()\n",
    "plt.title('По Количеству')\n",
    "plt1.set(xlabel = 'Дата', ylabel = 'Количество')\n",
    "\n",
    "plt.subplot(1,2,2)\n",
    "plt2 = dt.Сумма.plot()\n",
    "plt.title('По Сумме')\n",
    "plt2.set(xlabel = 'Дата', ylabel = 'Сумма')"
   ]
  }
 ],
 "metadata": {
  "kernelspec": {
   "display_name": "Python 3.9.12 ('base')",
   "language": "python",
   "name": "python3"
  },
  "language_info": {
   "codemirror_mode": {
    "name": "ipython",
    "version": 3
   },
   "file_extension": ".py",
   "mimetype": "text/x-python",
   "name": "python",
   "nbconvert_exporter": "python",
   "pygments_lexer": "ipython3",
   "version": "3.9.12"
  },
  "orig_nbformat": 4,
  "vscode": {
   "interpreter": {
    "hash": "ad2bdc8ecc057115af97d19610ffacc2b4e99fae6737bb82f5d7fb13d2f2c186"
   }
  }
 },
 "nbformat": 4,
 "nbformat_minor": 2
}
